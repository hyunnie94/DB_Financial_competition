{
 "cells": [
  {
   "cell_type": "code",
   "execution_count": 1,
   "metadata": {},
   "outputs": [],
   "source": [
    "import seaborn as sns\n",
    "import numpy as np\n",
    "import pandas as pd\n",
    "from pandas import DataFrame as df\n",
    "from pandas import Series\n",
    "import seaborn as sns\n",
    "import matplotlib.pyplot as plt \n",
    "import scipy.stats as sp\n",
    "from matplotlib import font_manager, rc\n",
    "font_name = font_manager.FontProperties(fname=\"c:/Windows/Fonts/malgun.ttf\").get_name()\n",
    "import sys\n",
    "rc('font', family=font_name)\n",
    "%matplotlib inline"
   ]
  },
  {
   "cell_type": "code",
   "execution_count": 2,
   "metadata": {},
   "outputs": [],
   "source": [
    "healthdata2014 = pd.read_csv(r\"C:\\Users\\digus\\Desktop\\db금융공모전\\건강검진데이터\\건강검진정보_2014.csv\", delimiter=',', engine=\"python\")\n",
    "healthdata2015 = pd.read_csv(r\"C:\\Users\\digus\\Desktop\\db금융공모전\\건강검진데이터\\건강검진정보_2015.csv\", delimiter=',', engine=\"python\")\n",
    "healthdata2016 = pd.read_csv(r\"C:\\Users\\digus\\Desktop\\db금융공모전\\건강검진데이터\\건강검진정보_2016.csv\", delimiter=',', engine=\"python\")\n",
    "healthdata2017 = pd.read_csv(r\"C:\\Users\\digus\\Desktop\\db금융공모전\\건강검진데이터\\건강검진정보_2017.csv\", delimiter=',', engine=\"python\")\n",
    "healthdata2018 = pd.read_csv(r\"C:\\Users\\digus\\Desktop\\db금융공모전\\건강검진데이터\\건강검진정보_2018.csv\", delimiter=',', engine=\"python\")"
   ]
  },
  {
   "cell_type": "code",
   "execution_count": 3,
   "metadata": {},
   "outputs": [],
   "source": [
    "healthdata2014 = healthdata2014.drop(['기준년도','가입자일련번호', '시도코드', '시력(좌)', '시력(우)',\n",
    "                                      '청력(좌)', '청력(우)', '구강검진 수검여부', '치아우식증유무',\n",
    "                                      '치석유무', '데이터 기준일자'], axis=1)"
   ]
  },
  {
   "cell_type": "code",
   "execution_count": 4,
   "metadata": {},
   "outputs": [],
   "source": [
    "healthdata2014 = healthdata2014.dropna(axis=0, how='any')"
   ]
  },
  {
   "cell_type": "code",
   "execution_count": 5,
   "metadata": {},
   "outputs": [],
   "source": [
    "healthdata2015 = healthdata2015.drop(['기준년도','가입자일련번호', '시도코드', '시력(좌)', '시력(우)',\n",
    "                                      '청력(좌)', '청력(우)', '구강검진 수검여부', '치아우식증유무',\n",
    "                                      '치석유무', '데이터 기준일자'], axis=1)"
   ]
  },
  {
   "cell_type": "code",
   "execution_count": 6,
   "metadata": {},
   "outputs": [],
   "source": [
    "healthdata2015 = healthdata2015.dropna(axis=0, how='any')"
   ]
  },
  {
   "cell_type": "code",
   "execution_count": 7,
   "metadata": {},
   "outputs": [],
   "source": [
    "healthdata2016 = healthdata2016.drop(['기준년도','가입자일련번호', '시도코드', '시력(좌)', '시력(우)',\n",
    "                                      '청력(좌)', '청력(우)', '구강검진 수검여부', '치아우식증유무', '결손치유무',\n",
    "                                      '치석', '치아마모증유무', '제3대구치(사랑니)이상','데이터공개일자'], axis=1)"
   ]
  },
  {
   "cell_type": "code",
   "execution_count": 8,
   "metadata": {},
   "outputs": [],
   "source": [
    "healthdata2016 = healthdata2016.dropna(axis=0, how='any')"
   ]
  },
  {
   "cell_type": "code",
   "execution_count": 9,
   "metadata": {},
   "outputs": [],
   "source": [
    "healthdata2017 = healthdata2017.drop(['기준년도','가입자일련번호', '시도코드', '시력(좌)', '시력(우)',\n",
    "                                      '청력(좌)', '청력(우)', '구강검진 수검여부', '치아우식증유무', '결손치유무',\n",
    "                                      '치석', '치아마모증유무', '제3대구치(사랑니)이상','데이터공개일자'], axis=1)"
   ]
  },
  {
   "cell_type": "code",
   "execution_count": 10,
   "metadata": {},
   "outputs": [],
   "source": [
    "healthdata2017 = healthdata2017.dropna(axis=0, how='any')"
   ]
  },
  {
   "cell_type": "code",
   "execution_count": 11,
   "metadata": {},
   "outputs": [],
   "source": [
    "healthdata2018 = healthdata2018.drop(['기준년도','가입자일련번호', '시도코드', '시력(좌)', '시력(우)',\n",
    "                                      '청력(좌)', '청력(우)', '구강검진수검여부', '치아우식증유무', '결손치유무',\n",
    "                                      '치석', '치아마모증유무', '제3대구치(사랑니)이상','데이터공개일자'], axis=1)"
   ]
  },
  {
   "cell_type": "code",
   "execution_count": 12,
   "metadata": {},
   "outputs": [],
   "source": [
    "healthdata2018 = healthdata2018.dropna(axis=0, how='any')"
   ]
  },
  {
   "cell_type": "code",
   "execution_count": 13,
   "metadata": {},
   "outputs": [],
   "source": [
    "healthdataAll = pd.concat([healthdata2014, healthdata2015, healthdata2016, healthdata2017, healthdata2018])"
   ]
  },
  {
   "cell_type": "code",
   "execution_count": 14,
   "metadata": {},
   "outputs": [],
   "source": [
    "manAlldata = healthdataAll[healthdataAll['성별코드'] == 1]"
   ]
  },
  {
   "cell_type": "code",
   "execution_count": 15,
   "metadata": {},
   "outputs": [],
   "source": [
    "womanAlldata = healthdataAll[healthdataAll['성별코드'] == 2]"
   ]
  },
  {
   "cell_type": "code",
   "execution_count": 16,
   "metadata": {},
   "outputs": [],
   "source": [
    "i1 = manAlldata[manAlldata['연령대코드(5세단위)'] <= 2].index\n",
    "manAlldata = manAlldata.drop(i1)"
   ]
  },
  {
   "cell_type": "code",
   "execution_count": 17,
   "metadata": {},
   "outputs": [],
   "source": [
    "i2 = womanAlldata[womanAlldata['연령대코드(5세단위)'] <= 3].index\n",
    "womanAlldata = womanAlldata.drop(i2)"
   ]
  },
  {
   "cell_type": "code",
   "execution_count": 18,
   "metadata": {},
   "outputs": [],
   "source": [
    "manAlldata.to_csv(\"man.csv\", mode='w')"
   ]
  },
  {
   "cell_type": "code",
   "execution_count": 19,
   "metadata": {},
   "outputs": [],
   "source": [
    "manAlldata.to_csv(\"woman.csv\", mode='w')"
   ]
  },
  {
   "cell_type": "code",
   "execution_count": null,
   "metadata": {},
   "outputs": [],
   "source": []
  },
  {
   "cell_type": "code",
   "execution_count": null,
   "metadata": {},
   "outputs": [],
   "source": []
  }
 ],
 "metadata": {
  "kernelspec": {
   "display_name": "Python 3",
   "language": "python",
   "name": "python3"
  },
  "language_info": {
   "codemirror_mode": {
    "name": "ipython",
    "version": 3
   },
   "file_extension": ".py",
   "mimetype": "text/x-python",
   "name": "python",
   "nbconvert_exporter": "python",
   "pygments_lexer": "ipython3",
   "version": "3.6.9"
  }
 },
 "nbformat": 4,
 "nbformat_minor": 2
}
